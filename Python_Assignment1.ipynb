{
 "cells": [
  {
   "cell_type": "markdown",
   "id": "1ebde41d",
   "metadata": {},
   "source": [
    "# Python Basics Questions"
   ]
  },
  {
   "cell_type": "markdown",
   "id": "744fd66b",
   "metadata": {},
   "source": [
    "THERIOTICAL"
   ]
  },
  {
   "cell_type": "markdown",
   "id": "123294de",
   "metadata": {},
   "source": [
    "1. What is Python, and why is it popular ?\n",
    "\n",
    "-> Python is the high level, general purpose programming language. It is interpreted and object oriented programming language that is easy to read and write.\n",
    "It was developed by the Guido Van Rossum i the year of 1991.\n",
    "Python is popular due to its simplicity and ease to learn and use. It is also popular due to the powerful libraries like, NumPy, Pandas for Data handling and analysis. Matplotlib, Seaborn, Plotly for Data visualization and the Scikit-learn, TensorFlow, PyTorch for the Machine Learning and Deep Learning.\n",
    "It is also Popular due to the huge Community support,integration, Flexibitilyand open source and free."
   ]
  },
  {
   "cell_type": "markdown",
   "id": "380ad260",
   "metadata": {},
   "source": [
    "2. What is an interpreter in Python ?\n",
    "\n",
    "-> An Interpretor in the pyhton is the program that executes the python code line-by-line. If any error is encounterred in any line then suddenly it displays that error and then goes to the next line."
   ]
  },
  {
   "cell_type": "markdown",
   "id": "9844c6cc",
   "metadata": {},
   "source": [
    "3. What are pre-defined keywords in Python ?\n",
    "\n",
    "-> The predefined keywords in the python are the special words or the reserved words that have some special emaning assigned to it in the python language and they can not be used ass the identifiers."
   ]
  },
  {
   "cell_type": "markdown",
   "id": "c5d8aabf",
   "metadata": {},
   "source": [
    "4. Can keywords be used as variable names ?\n",
    "\n",
    "-> No, keywords in the python can not be used as the variables names or identifiers.\n"
   ]
  },
  {
   "cell_type": "markdown",
   "id": "e9591df2",
   "metadata": {},
   "source": [
    "5.What is mutability in Python ?\n",
    "\n",
    "-> Mutability in the python refers to the abiliti to update or modify.\n",
    "The object or the data structure which can be, changed or updated after the creation is said to be the mutable and this ability is said to be mutability."
   ]
  },
  {
   "cell_type": "markdown",
   "id": "bbf5945d",
   "metadata": {},
   "source": [
    "6. Why are lists mutable, but tuples are immutable ?\n",
    "\n",
    "-> List are mutable because they are designed to change the data stored in it.\n",
    "Tuples are immutable to provide the safety, faster performance and allows usage dictionary keys or set elements."
   ]
  },
  {
   "cell_type": "markdown",
   "id": "136576cd",
   "metadata": {},
   "source": [
    "7. What is the difference between “==” and “is” operators in Python ?\n",
    "\n",
    "-> \"==\" This operator is know as the comparator operator which is used to compare the objects.\n",
    "\n",
    "is : This is known as the identity operator that checks whether the two objects refer to same memory or not."
   ]
  },
  {
   "cell_type": "markdown",
   "id": "10c4e7aa",
   "metadata": {},
   "source": [
    "8. What are logical operators in Python ?\n",
    "\n",
    "-> Logical operators in python is used to combine the conditional statements and return the boolean value\n",
    "\n",
    "There are three types of the logical operators in the python\n",
    "\n",
    "1. and : returns true if both the conditions are true\n",
    "2. or : returns true if atleast one of the condition is true\n",
    "3. not : reverses the reasult "
   ]
  },
  {
   "cell_type": "markdown",
   "id": "ca9be935",
   "metadata": {},
   "source": [
    "9. What is type casting in Python ?\n",
    "\n",
    "-> Type casting in Python means converting one data type into another.\n",
    "It is done using the built in functions like int (), float (), str (), etc.\n"
   ]
  },
  {
   "cell_type": "markdown",
   "id": "2933d646",
   "metadata": {},
   "source": [
    "10. What is the difference between implicit and explicit type casting ?\n",
    "\n",
    "-> implicit typecastting is done with the python itself without the risk of the dataloss and the explicit typecasting is done manually using the built in functions like int (), float (), str (), etc.\n"
   ]
  },
  {
   "cell_type": "markdown",
   "id": "95f7d653",
   "metadata": {},
   "source": [
    "11. What is the purpose of conditional statements in Python ?\n",
    "\n",
    "-> The purpose of conditional statements in Python is to make decisions in a program.\n",
    "They allow code to execute different blocks depending on whether a condition is True or False."
   ]
  },
  {
   "cell_type": "markdown",
   "id": "57d0dc5a",
   "metadata": {},
   "source": [
    "12. How does the elif statement work ?\n",
    "\n",
    "->The elif statement in Python means \"else if\".\n",
    "When there are many conditions used in between the \"if\" and \"else\", then it should be written inside the \"elif\" block."
   ]
  },
  {
   "cell_type": "markdown",
   "id": "a89cc52a",
   "metadata": {},
   "source": [
    "13. What is the difference between for and while loops ?\n",
    "\n",
    "-> for loops are generally used when we know the actual number of iterations.\n",
    "while loops are used when we actually dont know the number of the iterations."
   ]
  },
  {
   "cell_type": "markdown",
   "id": "99bbea89",
   "metadata": {},
   "source": [
    "14. Describe a scenario where a while loop is more suitable than a for loop ?\n",
    "\n",
    "-> A while loop is more suitable when we don’t know in advance how many times the loop should run, and it depends on a condition."
   ]
  },
  {
   "cell_type": "markdown",
   "id": "ead6cd98",
   "metadata": {},
   "source": [
    " Practicl Questions"
   ]
  },
  {
   "cell_type": "markdown",
   "id": "e47e2b8a",
   "metadata": {},
   "source": [
    "1. Write a Python program to print \"Hello, World!\""
   ]
  },
  {
   "cell_type": "code",
   "execution_count": 1,
   "id": "3c765f0c",
   "metadata": {},
   "outputs": [
    {
     "data": {
      "text/plain": [
       "'Hello, World!'"
      ]
     },
     "execution_count": 1,
     "metadata": {},
     "output_type": "execute_result"
    }
   ],
   "source": [
    "\"Hello, World!\""
   ]
  },
  {
   "cell_type": "markdown",
   "id": "5609f72b",
   "metadata": {},
   "source": [
    "2. Write a Python program that displays your name and age"
   ]
  },
  {
   "cell_type": "code",
   "execution_count": 3,
   "id": "94f05fe1",
   "metadata": {},
   "outputs": [
    {
     "name": "stdout",
     "output_type": "stream",
     "text": [
      "My name is : Argade Bhagirath Dnyaneshwar\n"
     ]
    },
    {
     "data": {
      "text/plain": [
       "'My age is : 21'"
      ]
     },
     "execution_count": 3,
     "metadata": {},
     "output_type": "execute_result"
    }
   ],
   "source": [
    "print (\"My name is : Argade Bhagirath Dnyaneshwar\")\n",
    "\"My age is : 21\""
   ]
  },
  {
   "cell_type": "markdown",
   "id": "2a95e7d3",
   "metadata": {},
   "source": [
    "3. Write code to print all the pre-defined keywords in Python using the keyword library."
   ]
  },
  {
   "cell_type": "code",
   "execution_count": 47,
   "id": "1dc0b1a0",
   "metadata": {},
   "outputs": [
    {
     "name": "stdout",
     "output_type": "stream",
     "text": [
      "All Python Keywords:\n",
      "['False', 'None', 'True', 'and', 'as', 'assert', 'async', 'await', 'break', 'class', 'continue', 'def', 'del', 'elif', 'else', 'except', 'finally', 'for', 'from', 'global', 'if', 'import', 'in', 'is', 'lambda', 'nonlocal', 'not', 'or', 'pass', 'raise', 'return', 'try', 'while', 'with', 'yield']\n",
      "The total no of keywords are : 35\n"
     ]
    }
   ],
   "source": [
    "import keyword\n",
    "\n",
    "keywords = keyword.kwlist\n",
    "lst = []\n",
    "\n",
    "print(\"All Python Keywords:\")\n",
    "for kw in keywords:\n",
    "    lst.append( kw )\n",
    "print(lst)\n",
    "print(f'The total no of keywords are : {len(lst)}')\n"
   ]
  },
  {
   "cell_type": "markdown",
   "id": "ade5c343",
   "metadata": {},
   "source": [
    "4. Write a program that checks if a given word is a Python keyword."
   ]
  },
  {
   "cell_type": "code",
   "execution_count": 23,
   "id": "7e201f9e",
   "metadata": {},
   "outputs": [
    {
     "name": "stdout",
     "output_type": "stream",
     "text": [
      "Your word : True is the python keyword.\n"
     ]
    }
   ],
   "source": [
    "import keyword\n",
    "\n",
    "keywords = keyword.kwlist\n",
    "\n",
    "k = input ('Enter the keyword :')\n",
    "\n",
    "if k in keywords :\n",
    "    print (f'Your word : {k} is the python keyword.')\n",
    "else :\n",
    "    print (f'Your word : {k} is not the python keyword.')\n"
   ]
  },
  {
   "cell_type": "markdown",
   "id": "a398fe87",
   "metadata": {},
   "source": [
    "5. Create a list and tuple in Python, and demonstrate how attempting to change an element works differently for each."
   ]
  },
  {
   "cell_type": "code",
   "execution_count": 49,
   "id": "5dc5a7e8",
   "metadata": {},
   "outputs": [
    {
     "name": "stdout",
     "output_type": "stream",
     "text": [
      "Original list is :  ['False', 'None', 'True', 'and', 'as', 'assert', 'async', 'await', 'break', 'class', 'continue', 'def', 'del', 'elif', 'else', 'except', 'finally', 'for', 'from', 'global', 'if', 'import', 'in', 'is', 'lambda', 'nonlocal', 'not', 'or', 'pass', 'raise', 'return', 'try', 'while', 'with', 'yield']\n",
      "Original tuple is :  (10, 20, 30)\n",
      "Modified list is :  [10, 40, 30]\n",
      "But tuple are immutable.\n"
     ]
    }
   ],
   "source": [
    "l = [10, 20, 30]\n",
    "tuple = (10, 20, 30)\n",
    "\n",
    "print ('Original list is : ', lst)\n",
    "print ('Original tuple is : ', tuple)\n",
    "\n",
    "l[1] = 40 \n",
    "print ('Modified list is : ', l)\n",
    "print ('But tuple are immutable.')"
   ]
  },
  {
   "cell_type": "markdown",
   "id": "898540e0",
   "metadata": {},
   "source": [
    "6. Write a function to demonstrate the behavior of mutable and immutable arguments."
   ]
  },
  {
   "cell_type": "code",
   "execution_count": 55,
   "id": "9f4af19a",
   "metadata": {},
   "outputs": [
    {
     "name": "stdout",
     "output_type": "stream",
     "text": [
      "Before function call: x = 5 , list = [1, 2, 3]\n",
      "Inside function, num = 6\n",
      "Inside function, list = [1, 2, 3, 100]\n",
      "After function call: x = 5 , list = [1, 2, 3, 100]\n"
     ]
    }
   ],
   "source": [
    "def demo(num, my_lst):\n",
    "    # Immutable example (int)\n",
    "    num = num + 1\n",
    "    print(\"Inside function, num =\", num)\n",
    "\n",
    "    # Mutable example (list)\n",
    "    my_lst.append(100)\n",
    "    print(\"Inside function, list =\", my_lst)\n",
    "\n",
    "\n",
    "# Immutable argument\n",
    "x = 5\n",
    "# Mutable argument\n",
    "lst = [1, 2, 3]\n",
    "\n",
    "print(\"Before function call: x =\", x, \", list =\", lst)\n",
    "\n",
    "demo(x, lst)\n",
    "\n",
    "print(\"After function call: x =\", x, \", list =\", lst)\n"
   ]
  },
  {
   "cell_type": "markdown",
   "id": "9ea41232",
   "metadata": {},
   "source": [
    "7. Write a program that performs basic arithmetic operations on two user-input numbers."
   ]
  },
  {
   "cell_type": "code",
   "execution_count": 28,
   "id": "e693212f",
   "metadata": {},
   "outputs": [
    {
     "name": "stdout",
     "output_type": "stream",
     "text": [
      "Addition : 22\n",
      "Subtraction : 2\n",
      "Multiplication : 120\n",
      "Division : 1.2\n"
     ]
    }
   ],
   "source": [
    "n1=int (input('Enter the first number :'))\n",
    "n2=int (input('Enter the second number :'))\n",
    "\n",
    "print(f'Addition : {n1+n2}')\n",
    "print(f'Subtraction : {n1-n2}')\n",
    "print(f'Multiplication : {n1*n2}')\n",
    "print(f'Division : {n1/n2}')"
   ]
  },
  {
   "cell_type": "markdown",
   "id": "a9537488",
   "metadata": {},
   "source": [
    "8. Write a program to demonstrate the use of logical operators"
   ]
  },
  {
   "cell_type": "code",
   "execution_count": 33,
   "id": "31e0e72c",
   "metadata": {},
   "outputs": [
    {
     "name": "stdout",
     "output_type": "stream",
     "text": [
      "False\n",
      "True\n",
      "False\n",
      "True\n"
     ]
    }
   ],
   "source": [
    "t= True\n",
    "f= False\n",
    "\n",
    "# and operator returns true if both values are true\n",
    "print (t and f)\n",
    "# or operator returns true if either one value is true\n",
    "print (t or f)\n",
    "# not operator always reverses the value\n",
    "print ( not t)\n",
    "print ( not f)"
   ]
  },
  {
   "cell_type": "markdown",
   "id": "4c1551c3",
   "metadata": {},
   "source": [
    "9. Write a Python program to convert user input from string to integer, float, and boolean types."
   ]
  },
  {
   "cell_type": "code",
   "execution_count": null,
   "id": "ba529818",
   "metadata": {},
   "outputs": [
    {
     "name": "stdout",
     "output_type": "stream",
     "text": [
      "The integer value is : 5\n",
      "The float value is : 5.0\n",
      "The boolean value is : True\n"
     ]
    }
   ],
   "source": [
    "str= input ('Enter string : ')\n",
    "print (\"You entered : \", str)\n",
    "print (f'The integer value is : {int(str)}')\n",
    "print (f'The float value is : {float(str)}')\n",
    "print (f'The boolean value is : {bool(str)}')"
   ]
  },
  {
   "cell_type": "markdown",
   "id": "ecdf8a93",
   "metadata": {},
   "source": [
    "10. . Write code to demonstrate type casting with list elements."
   ]
  },
  {
   "cell_type": "code",
   "execution_count": 59,
   "id": "7d5b78cf",
   "metadata": {},
   "outputs": [
    {
     "name": "stdout",
     "output_type": "stream",
     "text": [
      "[1, 2, 3, 4]\n",
      "[1.0, 2.0, 3.0, 4.0]\n",
      "[True, True, True, True]\n"
     ]
    }
   ],
   "source": [
    "lst = ['1', '2', '3',' 4']\n",
    "# list comprehension \n",
    "int_lst = [int(i) for i in lst]\n",
    "flt_lst = [float(i) for i in lst]\n",
    "bool_lst = [bool(i) for i in lst]\n",
    "print (int_lst)\n",
    "print (flt_lst)\n",
    "print (bool_lst)"
   ]
  },
  {
   "cell_type": "markdown",
   "id": "0009d144",
   "metadata": {},
   "source": [
    "11. Write a program that checks if a number is positive, negative, or zero."
   ]
  },
  {
   "cell_type": "code",
   "execution_count": 66,
   "id": "0b802239",
   "metadata": {},
   "outputs": [
    {
     "name": "stdout",
     "output_type": "stream",
     "text": [
      "Negative\n"
     ]
    }
   ],
   "source": [
    "n = int(input (\"Enter the nimber : \"))\n",
    "\n",
    "if n==0 :\n",
    "    print(\"Zero\")\n",
    "elif n>0 :\n",
    "   print( \"Positive\")\n",
    "else :\n",
    "    print(\"Negative\")"
   ]
  },
  {
   "cell_type": "markdown",
   "id": "65459e35",
   "metadata": {},
   "source": [
    "12. Write a for loop to print numbers from 1 to 10."
   ]
  },
  {
   "cell_type": "code",
   "execution_count": 67,
   "id": "75de8ef4",
   "metadata": {},
   "outputs": [
    {
     "name": "stdout",
     "output_type": "stream",
     "text": [
      "1\n",
      "2\n",
      "3\n",
      "4\n",
      "5\n",
      "6\n",
      "7\n",
      "8\n",
      "9\n",
      "10\n"
     ]
    }
   ],
   "source": [
    "for i in range(1, 11) :\n",
    "    print (i)"
   ]
  },
  {
   "cell_type": "markdown",
   "id": "ad12d52a",
   "metadata": {},
   "source": [
    "13. . Write a Python program to find the sum of all even numbers between 1 and 50."
   ]
  },
  {
   "cell_type": "code",
   "execution_count": 68,
   "id": "87f80dd9",
   "metadata": {},
   "outputs": [
    {
     "data": {
      "text/plain": [
       "650"
      ]
     },
     "execution_count": 68,
     "metadata": {},
     "output_type": "execute_result"
    }
   ],
   "source": [
    "sum = 0\n",
    "for i in range (1, 51) :\n",
    "    if (i%2==0 ):\n",
    "        sum+=i\n",
    "sum"
   ]
  },
  {
   "cell_type": "markdown",
   "id": "7724d7bb",
   "metadata": {},
   "source": [
    "14. Write a program to reverse a string using a while loop."
   ]
  },
  {
   "cell_type": "code",
   "execution_count": null,
   "id": "623d8eb0",
   "metadata": {},
   "outputs": [
    {
     "data": {
      "text/plain": [
       "'olleH'"
      ]
     },
     "execution_count": 74,
     "metadata": {},
     "output_type": "execute_result"
    }
   ],
   "source": [
    "str1 = \"Hello\"\n",
    "str2 = \"\"\n",
    "i = len(str1) -1\n",
    "while i>=0 :\n",
    "    str2+=str1[i]\n",
    "    i-=1\n",
    "str2"
   ]
  },
  {
   "cell_type": "markdown",
   "id": "6f3a6427",
   "metadata": {},
   "source": [
    "15. Write a Python program to calculate the factorial of a number provided by the user using a while loop."
   ]
  },
  {
   "cell_type": "code",
   "execution_count": 78,
   "id": "67026e2a",
   "metadata": {},
   "outputs": [
    {
     "data": {
      "text/plain": [
       "24"
      ]
     },
     "execution_count": 78,
     "metadata": {},
     "output_type": "execute_result"
    }
   ],
   "source": [
    "num = int (input (\"Enter a number : \"))\n",
    "fact=i=1\n",
    "while i<=num :\n",
    "    fact *= i \n",
    "    i+=1\n",
    "fact"
   ]
  }
 ],
 "metadata": {
  "kernelspec": {
   "display_name": "Python 3",
   "language": "python",
   "name": "python3"
  },
  "language_info": {
   "codemirror_mode": {
    "name": "ipython",
    "version": 3
   },
   "file_extension": ".py",
   "mimetype": "text/x-python",
   "name": "python",
   "nbconvert_exporter": "python",
   "pygments_lexer": "ipython3",
   "version": "3.13.7"
  }
 },
 "nbformat": 4,
 "nbformat_minor": 5
}
